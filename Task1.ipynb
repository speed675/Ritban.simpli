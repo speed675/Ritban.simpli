{
 "cells": [
  {
   "cell_type": "code",
   "execution_count": 2,
   "metadata": {},
   "outputs": [
    {
     "name": "stdout",
     "output_type": "stream",
     "text": [
      "Variables and dictionary created successfully.\n"
     ]
    }
   ],
   "source": [
    "\n",
    "integer_var = 42\n",
    "list_of_integers_var = [1, 2, 3]\n",
    "string_var = \"Hello, world!\"\n",
    "list_of_integers_and_string_var = [42, \"Simplilearn\"]\n",
    "tuple_of_integers_var = (10, 20, 30)\n",
    "set_of_strings_var = {\"apple\", \"banana\", \"cherry\"}\n",
    "list_of_strings_var = [\"apple\", \"banana\", \"cherry\"]\n",
    "my_random_dict = {}\n",
    "for i in range(7):\n",
    "    random_key = f\"key_{random.randint(1, 100)}\"\n",
    "    my_random_dict[random_key] = None\n",
    "my_random_dict[\"key_1\"] = integer_var\n",
    "my_random_dict[\"key_2\"] = list_of_integers_var\n",
    "my_random_dict[\"key_3\"] = string_var\n",
    "my_random_dict[\"key_4\"] = list_of_integers_and_string_var\n",
    "my_random_dict[\"key_5\"] = tuple_of_integers_var\n",
    "my_random_dict[\"key_6\"] = set_of_strings_var\n",
    "my_random_dict[\"key_7\"] = list_of_strings_var\n",
    "\n",
    "print(\"Variables and dictionary created successfully.\")\n"
   ]
  },
  {
   "cell_type": "code",
   "execution_count": 3,
   "metadata": {},
   "outputs": [
    {
     "name": "stdout",
     "output_type": "stream",
     "text": [
      "Values and sub-values accessed successfully.\n"
     ]
    }
   ],
   "source": [
    "# Access the values in the dictionary\n",
    "key_1_value = my_random_dict[\"key_1\"]\n",
    "key_2_value = my_random_dict[\"key_2\"]\n",
    "key_3_value = my_random_dict[\"key_3\"]\n",
    "key_4_value = my_random_dict[\"key_4\"]\n",
    "key_5_value = my_random_dict[\"key_5\"]\n",
    "key_6_value = my_random_dict[\"key_6\"]\n",
    "key_7_value = my_random_dict[\"key_7\"]\n",
    "\n",
    "if isinstance(key_4_value, list):\n",
    "    sub_value_1 = key_4_value[0] \n",
    "    sub_value_2 = key_4_value[1]  \n",
    "if isinstance(key_5_value, tuple):\n",
    "    sub_value_1 = key_5_value[0]  \n",
    "    sub_value_2 = key_5_value[1] \n",
    "    sub_value_3 = key_5_value[2]  \n",
    "\n",
    "print(\"Values and sub-values accessed successfully.\")\n"
   ]
  },
  {
   "cell_type": "code",
   "execution_count": null,
   "metadata": {},
   "outputs": [],
   "source": []
  }
 ],
 "metadata": {
  "kernelspec": {
   "display_name": "Python 3",
   "language": "python",
   "name": "python3"
  },
  "language_info": {
   "codemirror_mode": {
    "name": "ipython",
    "version": 3
   },
   "file_extension": ".py",
   "mimetype": "text/x-python",
   "name": "python",
   "nbconvert_exporter": "python",
   "pygments_lexer": "ipython3",
   "version": "3.7.6"
  }
 },
 "nbformat": 4,
 "nbformat_minor": 4
}
